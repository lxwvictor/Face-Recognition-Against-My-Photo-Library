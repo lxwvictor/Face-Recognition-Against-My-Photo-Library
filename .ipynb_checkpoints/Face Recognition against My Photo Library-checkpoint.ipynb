{
 "cells": [
  {
   "cell_type": "markdown",
   "metadata": {},
   "source": [
    "# Face Recognition against My Photo Library\n",
    "The iCloud photos from iOS or Mac OS provided a comprenesive way to tag faces and then all the photos in the library will be scanned, faces will be identified and tagged accordingly based on the earlier user defined tags.\n",
    "\n",
    "I am a photography enthusiast and I have started to taking photos from year 2004. As of today, it's over 200k shots and I've kept 40k of them. There are many desktop applications can do the job of face recognition, but it's going to be super fun if I can build the solution end to end.\n",
    "\n",
    "This report will have following parts.\n",
    "1. Get photos and preprocess.\n",
    "2. Get the features of the baseine photos.\n",
    "3. Train the model to perform the classification.\n",
    "4. Evaluate the model."
   ]
  },
  {
   "cell_type": "markdown",
   "metadata": {},
   "source": [
    "## Get photos and preprocess\n",
    "All my photos are in `D:\\Pictures`, majority of them are in both `.jpg` and `.nef` format. The `.nef` is a raw image format for Nikon cameras and `.jpg` is the copy after image post-processing."
   ]
  },
  {
   "cell_type": "code",
   "execution_count": 12,
   "metadata": {},
   "outputs": [
    {
     "name": "stdout",
     "output_type": "stream",
     "text": [
      "The current working directory D:\\Google Drive\\Study\\Deep Learning Developer\\Projects\\Project 4 - Face Recognition against My Photo Library\n",
      " Volume in drive D is Data\n",
      " Volume Serial Number is 9A80-45D7\n",
      "\n",
      " Directory of D:\\Google Drive\\Study\\Deep Learning Developer\\Projects\\Project 4 - Face Recognition against My Photo Library\n",
      "\n"
     ]
    },
    {
     "name": "stderr",
     "output_type": "stream",
     "text": [
      "File Not Found\n"
     ]
    }
   ],
   "source": [
    "import os\n",
    "print('The current working directory', os.getcwd())\n",
    "\n",
    "photoDir = os.getcwd() + '../../..'\n",
    "! dir os.getcwd()"
   ]
  },
  {
   "cell_type": "code",
   "execution_count": null,
   "metadata": {
    "collapsed": true
   },
   "outputs": [],
   "source": []
  }
 ],
 "metadata": {
  "kernelspec": {
   "display_name": "Python 3",
   "language": "python",
   "name": "python3"
  },
  "language_info": {
   "codemirror_mode": {
    "name": "ipython",
    "version": 3
   },
   "file_extension": ".py",
   "mimetype": "text/x-python",
   "name": "python",
   "nbconvert_exporter": "python",
   "pygments_lexer": "ipython3",
   "version": "3.5.4"
  }
 },
 "nbformat": 4,
 "nbformat_minor": 2
}
